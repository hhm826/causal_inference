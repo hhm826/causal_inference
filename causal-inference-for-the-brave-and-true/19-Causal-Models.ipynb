{
 "cells": [
  {
   "cell_type": "markdown",
   "metadata": {},
   "source": [
    "# Building a Causal Models\n",
    "\n",
    "We've seen now how there is a huge class of problems tha predictive models can't solve. Those are mostly problems where you want to figure out how to change some treatment \\\\(T\\\\) in order to arrive at a desired outcome \\\\(Y_{max}\\\\). We went through the example of figuring out how much discount should we give for each customer, but there is no shortages of exemples in this category: what is the credit line you should give on a credit card? What days of the year should you do sales? How much should you charge for whatever product? To better grasp the problem, you can think about the entities you have (be that customers, days, stores) as points in a Treatment and Outcome plot.\n",
    "\n",
    "![img](./data/img/causal-model/customers.png)\n",
    "\n",
    "Your intuition tells you that there is probable some sort of personalization you can do here. For instance, sure you could give everyone the same discount on a prodcut, but it is probably the case that there are people for whom the discount would be better. Making this intuition more precise, we could say that you think there are entities that are more responsive to the treatment than others. If that is the case, you want to partition your entitie space in such a way that it groups the units with high responsive together and, at the same time, separates them from the units with low response. \n",
    "\n",
    "The problem with prediction model is that it essentially partitions the space on the thing it predicts, that is, on the outcome \\\\(Y\\\\). \n",
    "\n",
    "![img](./data/img/causal-model/y-partition.png)\n",
    "\n",
    "By definition, the goal of prediction is to produce a new dimesions, \\\\(\\hat{Y}\\\\), where the thing you are trying to predent doesn't change much along constant values of this dimension. If you make a model that predict sales and you look at groups of entities with the same sales prediction, the real or observed sales should't change much in that group (if your model is any good at making predictions, that is).\n",
    "\n",
    "Here is another way of putting it: looking at partitions defined by a prediction model of \\\\(Y\\\\), by definition, loweres the range in wich \\\\(Y\\\\) can vary. And thats a huge problem if your goal is not prediction, but understanding how \\\\(Y\\\\) changes with \\\\(T\\\\). Because if the changes in \\\\(Y\\\\) are sudently contrained, or if \\\\(Y\\\\) is sudently held fixed by your prediction, you won't see it changing once you move \\\\(T\\\\). \n",
    "\n",
    "![img](./data/img/causal-model/y-split.png)\n",
    "\n",
    "This is what is shown in the image above. Once you partition your data on the outcome axis, you focebly make it so that \\\\(Y\\\\) can't change much if you move \\\\(T\\\\), which hinders your hability to know how \\\\(T\\\\) afects \\\\(Y\\\\). \n",
    "\n",
    "Of course this is a rather dramatized case, because in real life you almost never predict \\\\(Y\\\\) that well, so it will varie even for groups defined by the same prediction. But the central idea remains: focusing on prediction does not move you in the right direction when your goal is to estimate elasticity, that is, \\\\(\\frac{\\Delta Y}{ \\Delta T}\\\\).\n",
    "\n",
    "So what does? Here is an idea. What if instead of predicting \\\\(Y\\\\), we tried to predict the derivative \\\\(\\frac{\\delta Y}{ \\delta T}\\\\). If we could do manage to do that, what would hopfully hapen is that we would split the space somwhat like the following image\n",
    "\n",
    "![img](./data/img/causal-model/elast-partition.png)\n",
    "\n",
    "That would be wonderfull because now, we would then be able to estimate different elasticities on each partition. And notice here that the elasticity is just the slope of the line or function that goes from \\\\(T\\\\) to \\\\(Y\\\\). So, if we can produce partitions where the slope or elasticity different, it means that entities have different responsivness to the treatment, and then we can personalise. On other words, what you want is to move away from predicting \\\\(Y\\\\) in its raw form and start to predict the derivative of \\\\(Y\\\\) on \\\\(T\\\\),  \\\\(\\frac{\\delta Y}{ \\delta T}\\\\)\n",
    "\n",
    "![img](./data/img/causal-model/elast-split.png)\n",
    "\n",
    "For example, suppose that \\\\(Y\\\\) is icecream sales, \\\\(T\\\\) is icecream price and each entity is a day of the year. Let's set moral issues aside, for the sake of the argument, and predent that you can change the price of icecream every day. If you can somehow find the days where \\\\(\\frac{\\Delta Sales}{ \\Delta Price}\\\\) **is low**, that that means you can increase prices without loosing sales on those days. Perhaps you do this already, say, when you increase them on holliday season. The point being, it usefull to you to diferentiate days in terms of the price elasticity, because it gives you some basis on how to set prices.\n",
    "\n",
    "Ok, you might say, but this is kind of triky. How can I predict elasticity \\\\(\\frac{\\delta Sales}{ \\delta Price}\\\\) if I can't observe it. That's a very good point. Elasticity is essentially non observable on an entity level. To conceptualise it, you can think about each entity as having a \\\\(Y_i\\\\) value, sales in our example, but also an individual elasticity. The elasticity is how much \\\\(Y\\\\) changes with \\\\(T\\\\), so you can think about each entity also having a sope coneficient associeted to it \\\\(\\frac{\\delta Y}{ \\delta T}_i\\\\). In our example, we would say each day has a slope coeficient of price on sales.\n",
    "\n",
    "![img](./data/img/causal-model/elasticity.png)\n",
    "\n",
    "Of course, we can't see those individual slope coeficients. For us to see the individual slopes, we would had to see each day under two different prices and see how the sales changes for each of those prices\n",
    "\n",
    "$$\n",
    "\\frac{\\delta Y_i}{ \\delta T_i} \\approx \\frac{Y(T_i) - Y(T_i + \\epsilon)}{T_i - (T_i + \\epsilon)}\n",
    "$$\n",
    "\n",
    "This is the fundamental problem of causal inference all over again. We can't never see the same entity under different treatment conditions.\n",
    "\n",
    "## Predicting Elasticity\n",
    "\n",
    "We got to a complicated situation here. We figured that predicting \\\\(Y_i\\\\) would actualy hinder our capacity of figuring our how to chnage \\\\(Y\\\\) using \\\\(T\\\\). Rather, to solve that problem, we would have to predict the elasticity \\\\(\\frac{\\delta Y_i}{ \\delta T_i}\\\\). Saddly, we can't observe elasticity, so what can we do??\n",
    "\n",
    "Here is an idea. You can still fit a linear model\n",
    "\n",
    "$$\n",
    "y_i = \\beta_0 + \\beta_1 t_i + \\beta_2 X_i + e_i\n",
    "$$\n",
    "\n",
    "If you diferentiate the thing above on the treatment, you will end up with\n",
    "\n",
    "$$\n",
    "\\frac{\\delta y_i}{\\delta t_i} = \\beta_1 \n",
    "$$\n",
    "\n",
    "And since you can estimate the model above to get \\\\(\\hat{\\beta_1}\\\\), we can say that **you can predict elasticity even though you can't observe it**. In the case above, it is a rather simple prediction, that is, we are predicting the constant vale \\\\(\\hat{\\beta_1}\\\\) for everyone. This doesn't help us in our task of grouping entities acording to how responsive they are to the treatment, simply because everyone gets the same elasticity prediction. However, we can do the following change\n",
    "\n",
    "$$\n",
    "y_i = \\beta_0 + \\beta_1 t_i + \\beta_2 X_i + \\beta_3 t_i X_i  + e_i\n",
    "$$\n",
    "\n",
    "Which would give us the follow elasticity prediction\n",
    "\n",
    "$$\n",
    "\\widehat{\\frac{\\delta y_i}{\\delta t_i}} = \\hat{\\beta_1} + \\hat{\\beta_3}X_i\n",
    "$$\n",
    "\n",
    "Now, each entity defined by a different \\\\(X_i\\\\) will have a different elasticity prediction. In other words, the elasticity prediction will change if the features \\\\(X_i\\\\) changes. Now we are getting somewhere. The model above allows us to make an elasticity prediction for each of our entities. Than, we can take the ones that have high predicted elasticity and group them together. We can do the same with the ones that have low predicted sensitivity to the treatment. Now, with our elasticity predictions, we can group entities by how much we think they will respond to the treatment.\n",
    "\n",
    "Let's now walk through an example of how to make this sort of elasticity model. Let's consider our icecream example. Each unit \\\\(i\\\\) is a day. For each day, we know if it's a weekday or not, how much it costed us to make our icecream (you can think of cost as a proxy for quality) and the average temperature for that day. Those will be our feature space \\\\(X\\\\). Then, we have our treatment, price, and our outcome, the number of icecream sold. For this example, we will consider that the treatment is randomized, just so that we don't have to worry with bias for now. To make this more plausible, think about the icecream maker as having a statistical degree."
   ]
  },
  {
   "cell_type": "code",
   "execution_count": 1,
   "metadata": {},
   "outputs": [],
   "source": [
    "import pandas as pd\n",
    "import numpy as np\n",
    "from matplotlib import pyplot as plt\n",
    "\n",
    "import seaborn as sns\n",
    "import statsmodels.formula.api as smf\n",
    "import statsmodels.api as sm\n",
    "\n",
    "from sklearn.ensemble import GradientBoostingRegressor\n",
    "from sklearn.model_selection import train_test_split"
   ]
  },
  {
   "cell_type": "code",
   "execution_count": 2,
   "metadata": {},
   "outputs": [
    {
     "name": "stdout",
     "output_type": "stream",
     "text": [
      "(5000, 5)\n"
     ]
    },
    {
     "data": {
      "text/html": [
       "<div>\n",
       "<style scoped>\n",
       "    .dataframe tbody tr th:only-of-type {\n",
       "        vertical-align: middle;\n",
       "    }\n",
       "\n",
       "    .dataframe tbody tr th {\n",
       "        vertical-align: top;\n",
       "    }\n",
       "\n",
       "    .dataframe thead th {\n",
       "        text-align: right;\n",
       "    }\n",
       "</style>\n",
       "<table border=\"1\" class=\"dataframe\">\n",
       "  <thead>\n",
       "    <tr style=\"text-align: right;\">\n",
       "      <th></th>\n",
       "      <th>temp</th>\n",
       "      <th>weekday</th>\n",
       "      <th>cost</th>\n",
       "      <th>price</th>\n",
       "      <th>sales</th>\n",
       "    </tr>\n",
       "  </thead>\n",
       "  <tbody>\n",
       "    <tr>\n",
       "      <th>0</th>\n",
       "      <td>25.8</td>\n",
       "      <td>1</td>\n",
       "      <td>0.3</td>\n",
       "      <td>7</td>\n",
       "      <td>230</td>\n",
       "    </tr>\n",
       "    <tr>\n",
       "      <th>1</th>\n",
       "      <td>22.7</td>\n",
       "      <td>3</td>\n",
       "      <td>0.5</td>\n",
       "      <td>4</td>\n",
       "      <td>190</td>\n",
       "    </tr>\n",
       "    <tr>\n",
       "      <th>2</th>\n",
       "      <td>33.7</td>\n",
       "      <td>7</td>\n",
       "      <td>1.0</td>\n",
       "      <td>5</td>\n",
       "      <td>237</td>\n",
       "    </tr>\n",
       "    <tr>\n",
       "      <th>3</th>\n",
       "      <td>23.0</td>\n",
       "      <td>4</td>\n",
       "      <td>0.5</td>\n",
       "      <td>5</td>\n",
       "      <td>193</td>\n",
       "    </tr>\n",
       "    <tr>\n",
       "      <th>4</th>\n",
       "      <td>24.4</td>\n",
       "      <td>1</td>\n",
       "      <td>1.0</td>\n",
       "      <td>3</td>\n",
       "      <td>252</td>\n",
       "    </tr>\n",
       "  </tbody>\n",
       "</table>\n",
       "</div>"
      ],
      "text/plain": [
       "   temp  weekday  cost  price  sales\n",
       "0  25.8        1   0.3      7    230\n",
       "1  22.7        3   0.5      4    190\n",
       "2  33.7        7   1.0      5    237\n",
       "3  23.0        4   0.5      5    193\n",
       "4  24.4        1   1.0      3    252"
      ]
     },
     "execution_count": 2,
     "metadata": {},
     "output_type": "execute_result"
    }
   ],
   "source": [
    "prices_rnd = pd.read_csv(\"./data/ice_cream_sales_rnd.csv\")\n",
    "print(prices_rnd.shape)\n",
    "prices_rnd.head()"
   ]
  },
  {
   "cell_type": "markdown",
   "metadata": {},
   "source": [
    "Just as we do with prediction model, we will also split our dataset into a training and a testing sample. We will estimate the model on the first and make predictions on the last."
   ]
  },
  {
   "cell_type": "code",
   "execution_count": 3,
   "metadata": {},
   "outputs": [],
   "source": [
    "np.random.seed(123)\n",
    "train, test = train_test_split(prices_rnd)"
   ]
  },
  {
   "cell_type": "markdown",
   "metadata": {},
   "source": [
    "The first model we will consider is the following linear model\n",
    "\n",
    "$$\n",
    "sales_i = \\beta_0 + \\beta_1 price_i + \\pmb{\\beta_2}X_i + e_i\n",
    "$$\n",
    "\n",
    "If we inspect the parameters of this model, we can see that what our predicted elasticity will look like. "
   ]
  },
  {
   "cell_type": "code",
   "execution_count": 4,
   "metadata": {},
   "outputs": [
    {
     "data": {
      "text/html": [
       "<table class=\"simpletable\">\n",
       "<tr>\n",
       "         <td></td>            <th>coef</th>     <th>std err</th>      <th>t</th>      <th>P>|t|</th>  <th>[0.025</th>    <th>0.975]</th>  \n",
       "</tr>\n",
       "<tr>\n",
       "  <th>Intercept</th>       <td>  186.7113</td> <td>    1.770</td> <td>  105.499</td> <td> 0.000</td> <td>  183.241</td> <td>  190.181</td>\n",
       "</tr>\n",
       "<tr>\n",
       "  <th>C(weekday)[T.2]</th> <td>  -25.0512</td> <td>    0.924</td> <td>  -27.114</td> <td> 0.000</td> <td>  -26.863</td> <td>  -23.240</td>\n",
       "</tr>\n",
       "<tr>\n",
       "  <th>C(weekday)[T.3]</th> <td>  -24.5834</td> <td>    0.901</td> <td>  -27.282</td> <td> 0.000</td> <td>  -26.350</td> <td>  -22.817</td>\n",
       "</tr>\n",
       "<tr>\n",
       "  <th>C(weekday)[T.4]</th> <td>  -24.3807</td> <td>    0.897</td> <td>  -27.195</td> <td> 0.000</td> <td>  -26.138</td> <td>  -22.623</td>\n",
       "</tr>\n",
       "<tr>\n",
       "  <th>C(weekday)[T.5]</th> <td>  -24.9036</td> <td>    0.894</td> <td>  -27.850</td> <td> 0.000</td> <td>  -26.657</td> <td>  -23.150</td>\n",
       "</tr>\n",
       "<tr>\n",
       "  <th>C(weekday)[T.6]</th> <td>  -24.0921</td> <td>    0.903</td> <td>  -26.693</td> <td> 0.000</td> <td>  -25.862</td> <td>  -22.323</td>\n",
       "</tr>\n",
       "<tr>\n",
       "  <th>C(weekday)[T.7]</th> <td>   -0.8635</td> <td>    0.888</td> <td>   -0.972</td> <td> 0.331</td> <td>   -2.605</td> <td>    0.878</td>\n",
       "</tr>\n",
       "<tr>\n",
       "  <th>price</th>           <td>   -2.7515</td> <td>    0.106</td> <td>  -25.970</td> <td> 0.000</td> <td>   -2.959</td> <td>   -2.544</td>\n",
       "</tr>\n",
       "<tr>\n",
       "  <th>temp</th>            <td>    1.9848</td> <td>    0.060</td> <td>   33.117</td> <td> 0.000</td> <td>    1.867</td> <td>    2.102</td>\n",
       "</tr>\n",
       "<tr>\n",
       "  <th>cost</th>            <td>    4.4718</td> <td>    0.528</td> <td>    8.462</td> <td> 0.000</td> <td>    3.436</td> <td>    5.508</td>\n",
       "</tr>\n",
       "</table>"
      ],
      "text/plain": [
       "<class 'statsmodels.iolib.table.SimpleTable'>"
      ]
     },
     "execution_count": 4,
     "metadata": {},
     "output_type": "execute_result"
    }
   ],
   "source": [
    "m1 = smf.ols(\"sales ~ price + temp+C(weekday)+cost\", data=train).fit()\n",
    "m1.summary().tables[1]"
   ]
  },
  {
   "cell_type": "markdown",
   "metadata": {},
   "source": [
    "For \\\\(m1\\\\), the predicted price elasticity \\\\(\\widehat{\\frac{\\delta y_i}{\\delta t_i}}\\\\) will be given by \\\\(\\hat{\\beta_1}\\\\), which is -2.75, in our case. This means that for each aditional BRL we charge for our icecream, we should expect sales to go down by about 3 units. \n",
    "Notice how this \\\\(m1\\\\) predicts the exact same elasticity for everyone. Hence, it is not a very good model if we want to know on which days are people less sensitive to icecream price increases. Remember that our goal is to partition the entities in such a way that we can personalize and optimize out treatment, price, for each individual partition. To correct for that, consier our second model:\n",
    "\n",
    "$$\n",
    "sales_i = \\beta_0 + \\beta_1 price_i + \\beta_2 price_i * temp_i * + \\pmb{\\beta_3}X_i + e_i\n",
    "$$\n",
    "\n",
    "This second model includes an interaction term between price and temperature. This means that it allows the elasticity to differ for diferent temperatures."
   ]
  },
  {
   "cell_type": "code",
   "execution_count": 5,
   "metadata": {},
   "outputs": [
    {
     "data": {
      "text/html": [
       "<table class=\"simpletable\">\n",
       "<tr>\n",
       "         <td></td>            <th>coef</th>     <th>std err</th>      <th>t</th>      <th>P>|t|</th>  <th>[0.025</th>    <th>0.975]</th>  \n",
       "</tr>\n",
       "<tr>\n",
       "  <th>Intercept</th>       <td>  192.4767</td> <td>    4.371</td> <td>   44.037</td> <td> 0.000</td> <td>  183.907</td> <td>  201.046</td>\n",
       "</tr>\n",
       "<tr>\n",
       "  <th>C(weekday)[T.2]</th> <td>  -25.0805</td> <td>    0.924</td> <td>  -27.143</td> <td> 0.000</td> <td>  -26.892</td> <td>  -23.269</td>\n",
       "</tr>\n",
       "<tr>\n",
       "  <th>C(weekday)[T.3]</th> <td>  -24.5871</td> <td>    0.901</td> <td>  -27.290</td> <td> 0.000</td> <td>  -26.354</td> <td>  -22.821</td>\n",
       "</tr>\n",
       "<tr>\n",
       "  <th>C(weekday)[T.4]</th> <td>  -24.4225</td> <td>    0.897</td> <td>  -27.231</td> <td> 0.000</td> <td>  -26.181</td> <td>  -22.664</td>\n",
       "</tr>\n",
       "<tr>\n",
       "  <th>C(weekday)[T.5]</th> <td>  -24.8953</td> <td>    0.894</td> <td>  -27.844</td> <td> 0.000</td> <td>  -26.648</td> <td>  -23.142</td>\n",
       "</tr>\n",
       "<tr>\n",
       "  <th>C(weekday)[T.6]</th> <td>  -24.1269</td> <td>    0.903</td> <td>  -26.726</td> <td> 0.000</td> <td>  -25.897</td> <td>  -22.357</td>\n",
       "</tr>\n",
       "<tr>\n",
       "  <th>C(weekday)[T.7]</th> <td>   -0.8581</td> <td>    0.888</td> <td>   -0.966</td> <td> 0.334</td> <td>   -2.599</td> <td>    0.883</td>\n",
       "</tr>\n",
       "<tr>\n",
       "  <th>price</th>           <td>   -3.6299</td> <td>    0.618</td> <td>   -5.873</td> <td> 0.000</td> <td>   -4.842</td> <td>   -2.418</td>\n",
       "</tr>\n",
       "<tr>\n",
       "  <th>temp</th>            <td>    1.7459</td> <td>    0.176</td> <td>    9.912</td> <td> 0.000</td> <td>    1.401</td> <td>    2.091</td>\n",
       "</tr>\n",
       "<tr>\n",
       "  <th>price:temp</th>      <td>    0.0366</td> <td>    0.025</td> <td>    1.443</td> <td> 0.149</td> <td>   -0.013</td> <td>    0.086</td>\n",
       "</tr>\n",
       "<tr>\n",
       "  <th>cost</th>            <td>    4.4558</td> <td>    0.529</td> <td>    8.431</td> <td> 0.000</td> <td>    3.420</td> <td>    5.492</td>\n",
       "</tr>\n",
       "</table>"
      ],
      "text/plain": [
       "<class 'statsmodels.iolib.table.SimpleTable'>"
      ]
     },
     "execution_count": 5,
     "metadata": {},
     "output_type": "execute_result"
    }
   ],
   "source": [
    "m2 = smf.ols(\"sales ~ price*temp + C(weekday) + cost\", data=train).fit()\n",
    "m2.summary().tables[1]"
   ]
  },
  {
   "cell_type": "markdown",
   "metadata": {},
   "source": [
    "Once we estimate the model, the predicted elasticity is given by\n",
    "\n",
    "$$\n",
    "\\widehat{\\frac{\\delta sales_i}{\\delta price_i}} = \\hat{\\beta_1} + \\hat{\\beta_3}temp_i\n",
    "$$\n",
    "\n",
    "Notice that \\\\(\\hat{\\beta_3}\\\\) is positive 0,24. This means that, for each aditional degree, people become less sensitive to price increases on icecream. For example, at \\\\(25C^o\\\\), for each aditional BRL we charge, our icecream sales go down by 2.8 units \\\\((-3.6 + (0.03 * 25))\\\\). But at  \\\\(35C^o\\\\), for each aditional BRL we charge, they go down only by 2.5 units \\\\((-3.6 + (0.03 * 35))\\\\). This is also sort of intuitive. As the days get hotter and hotter, people are willing to pay more for icecream.  \n",
    "\n",
    "We can go even further. The next model includes interaction terms on all the feature space. This means that elasticity will change with temperature, day of the week, and cost.\n",
    "\n",
    "$$\n",
    "sales_i = \\beta_0 + \\beta_1 price_i + \\pmb{\\beta_2 X_i}*price_i + \\pmb{\\beta_3}X_i + e_i\n",
    "$$\n"
   ]
  },
  {
   "cell_type": "code",
   "execution_count": 6,
   "metadata": {},
   "outputs": [],
   "source": [
    "m3 = smf.ols(\"sales ~ price*cost + price*C(weekday) + price*temp\", data=train).fit()"
   ]
  },
  {
   "cell_type": "markdown",
   "metadata": {},
   "source": [
    "According to the above model, the individual level elasticity would be given by\n",
    "\n",
    "$$\n",
    "\\frac{\\delta Sales}{\\delta Price} = \\beta_1 + \\pmb{\\beta_2 X_i}\n",
    "$$\n",
    "\n",
    "Where \\\\(\\beta_1\\\\) is the price coeficient and \\\\(\\pmb{\\beta_2}\\\\) is the vector for the interaction coeficients. \n",
    "\n",
    "Finally, let's see how to actually make those elasticity predictions. One way to do them is to actually extract the elasticity parameters from the model and use the above formula. However, we will resort to a more general aproximation. Since elasticity is nothing more than the derivative of the outcome on treatment, we can resort to the definition of the derivative.\n",
    "\n",
    "$$\n",
    "\\frac{\\delta y}{\\delta t} = \\dfrac{y(t+\\epsilon) - y(t)}{ (t + \\epsilon) - t }\n",
    "$$\n",
    "\n",
    "with \\\\(\\epsilon\\\\) going to zero. We can aproximate this definition replacing \\\\(\\epsilon\\\\) by 1. \n",
    "\n",
    "$$\n",
    "\\frac{\\delta y}{\\delta t} \\approx \\hat{y}(t+1) - \\hat{y}(t)\n",
    "$$\n",
    "\n",
    "where \\\\(\\hat{y}\\\\) is given by our model's predictions. In words, I'll make two predictions with my models: one, passign the original data and another, passing the original data but with the treatment incremented by one unit. Below, you can see a function for doing that."
   ]
  },
  {
   "cell_type": "code",
   "execution_count": 7,
   "metadata": {},
   "outputs": [
    {
     "data": {
      "text/html": [
       "<div>\n",
       "<style scoped>\n",
       "    .dataframe tbody tr th:only-of-type {\n",
       "        vertical-align: middle;\n",
       "    }\n",
       "\n",
       "    .dataframe tbody tr th {\n",
       "        vertical-align: top;\n",
       "    }\n",
       "\n",
       "    .dataframe thead th {\n",
       "        text-align: right;\n",
       "    }\n",
       "</style>\n",
       "<table border=\"1\" class=\"dataframe\">\n",
       "  <thead>\n",
       "    <tr style=\"text-align: right;\">\n",
       "      <th></th>\n",
       "      <th>temp</th>\n",
       "      <th>weekday</th>\n",
       "      <th>cost</th>\n",
       "      <th>price</th>\n",
       "      <th>sales</th>\n",
       "      <th>pred_elast</th>\n",
       "    </tr>\n",
       "  </thead>\n",
       "  <tbody>\n",
       "    <tr>\n",
       "      <th>2648</th>\n",
       "      <td>18.6</td>\n",
       "      <td>7</td>\n",
       "      <td>0.5</td>\n",
       "      <td>10</td>\n",
       "      <td>185</td>\n",
       "      <td>-2.751463</td>\n",
       "    </tr>\n",
       "    <tr>\n",
       "      <th>2456</th>\n",
       "      <td>26.0</td>\n",
       "      <td>3</td>\n",
       "      <td>0.5</td>\n",
       "      <td>10</td>\n",
       "      <td>200</td>\n",
       "      <td>-2.751463</td>\n",
       "    </tr>\n",
       "    <tr>\n",
       "      <th>4557</th>\n",
       "      <td>23.7</td>\n",
       "      <td>3</td>\n",
       "      <td>0.3</td>\n",
       "      <td>8</td>\n",
       "      <td>192</td>\n",
       "      <td>-2.751463</td>\n",
       "    </tr>\n",
       "    <tr>\n",
       "      <th>4884</th>\n",
       "      <td>28.9</td>\n",
       "      <td>4</td>\n",
       "      <td>1.5</td>\n",
       "      <td>6</td>\n",
       "      <td>213</td>\n",
       "      <td>-2.751463</td>\n",
       "    </tr>\n",
       "    <tr>\n",
       "      <th>92</th>\n",
       "      <td>23.7</td>\n",
       "      <td>1</td>\n",
       "      <td>0.5</td>\n",
       "      <td>8</td>\n",
       "      <td>207</td>\n",
       "      <td>-2.751463</td>\n",
       "    </tr>\n",
       "  </tbody>\n",
       "</table>\n",
       "</div>"
      ],
      "text/plain": [
       "      temp  weekday  cost  price  sales  pred_elast\n",
       "2648  18.6        7   0.5     10    185   -2.751463\n",
       "2456  26.0        3   0.5     10    200   -2.751463\n",
       "4557  23.7        3   0.3      8    192   -2.751463\n",
       "4884  28.9        4   1.5      6    213   -2.751463\n",
       "92    23.7        1   0.5      8    207   -2.751463"
      ]
     },
     "execution_count": 7,
     "metadata": {},
     "output_type": "execute_result"
    }
   ],
   "source": [
    "def pred_elasticity(m, df, t=\"price\"):\n",
    "    return df.assign(**{\n",
    "        \"pred_elast\": m.predict(df.assign(**{t:df[t]+1}))  - m.predict(df)\n",
    "    })\n",
    "\n",
    "pred_elasticity(m1, test).head()"
   ]
  },
  {
   "cell_type": "markdown",
   "metadata": {},
   "source": [
    "If we make elasticity predictions using \\\\(m1\\\\), we will notice that it predicts the exact same value for all the days. That's because there are no interaction terms on that model. However, if we make predictions using \\\\(m3\\\\), it outputs a different elasticity prediction for each day. "
   ]
  },
  {
   "cell_type": "code",
   "execution_count": 8,
   "metadata": {},
   "outputs": [
    {
     "data": {
      "text/html": [
       "<div>\n",
       "<style scoped>\n",
       "    .dataframe tbody tr th:only-of-type {\n",
       "        vertical-align: middle;\n",
       "    }\n",
       "\n",
       "    .dataframe tbody tr th {\n",
       "        vertical-align: top;\n",
       "    }\n",
       "\n",
       "    .dataframe thead th {\n",
       "        text-align: right;\n",
       "    }\n",
       "</style>\n",
       "<table border=\"1\" class=\"dataframe\">\n",
       "  <thead>\n",
       "    <tr style=\"text-align: right;\">\n",
       "      <th></th>\n",
       "      <th>temp</th>\n",
       "      <th>weekday</th>\n",
       "      <th>cost</th>\n",
       "      <th>price</th>\n",
       "      <th>sales</th>\n",
       "      <th>pred_elast</th>\n",
       "    </tr>\n",
       "  </thead>\n",
       "  <tbody>\n",
       "    <tr>\n",
       "      <th>4764</th>\n",
       "      <td>31.1</td>\n",
       "      <td>6</td>\n",
       "      <td>1.0</td>\n",
       "      <td>3</td>\n",
       "      <td>212</td>\n",
       "      <td>1.144309</td>\n",
       "    </tr>\n",
       "    <tr>\n",
       "      <th>4324</th>\n",
       "      <td>24.8</td>\n",
       "      <td>7</td>\n",
       "      <td>0.5</td>\n",
       "      <td>10</td>\n",
       "      <td>182</td>\n",
       "      <td>-9.994303</td>\n",
       "    </tr>\n",
       "    <tr>\n",
       "      <th>4536</th>\n",
       "      <td>25.0</td>\n",
       "      <td>2</td>\n",
       "      <td>1.5</td>\n",
       "      <td>6</td>\n",
       "      <td>205</td>\n",
       "      <td>0.279273</td>\n",
       "    </tr>\n",
       "    <tr>\n",
       "      <th>3466</th>\n",
       "      <td>26.0</td>\n",
       "      <td>3</td>\n",
       "      <td>1.5</td>\n",
       "      <td>3</td>\n",
       "      <td>205</td>\n",
       "      <td>0.308320</td>\n",
       "    </tr>\n",
       "    <tr>\n",
       "      <th>115</th>\n",
       "      <td>19.3</td>\n",
       "      <td>3</td>\n",
       "      <td>0.3</td>\n",
       "      <td>9</td>\n",
       "      <td>177</td>\n",
       "      <td>-0.349745</td>\n",
       "    </tr>\n",
       "  </tbody>\n",
       "</table>\n",
       "</div>"
      ],
      "text/plain": [
       "      temp  weekday  cost  price  sales  pred_elast\n",
       "4764  31.1        6   1.0      3    212    1.144309\n",
       "4324  24.8        7   0.5     10    182   -9.994303\n",
       "4536  25.0        2   1.5      6    205    0.279273\n",
       "3466  26.0        3   1.5      3    205    0.308320\n",
       "115   19.3        3   0.3      9    177   -0.349745"
      ]
     },
     "execution_count": 8,
     "metadata": {},
     "output_type": "execute_result"
    }
   ],
   "source": [
    "pred_elast3 = pred_elasticity(m3, test)\n",
    "\n",
    "np.random.seed(1)\n",
    "pred_elast3.sample(5)"
   ]
  },
  {
   "cell_type": "markdown",
   "metadata": {},
   "source": [
    "Notice how the predictions are numbers that go from something like -9 to something 1. There are not predictions of the sales column, which is in the order of the hundreds. Rarther, **it's a prediction of how much sales would change if we increased price by one unit**. Right out of the bet, we can see some strange numbers. For example, take a look at day 4764. It's predicting a positive elasticity. In other words, we are predicting that price sales will increase with an increase in prices. This doesn't appeal to our economic sense, so we can use our intuition to correct that. Remember that causal inference is sort of an art, where inutuition about how the world works has to go hand in hand with the analysis of the data.\n",
    "\n",
    "If you choose to do that, the following code will force the elasticity prediction to be negative or zero."
   ]
  },
  {
   "cell_type": "code",
   "execution_count": 9,
   "metadata": {},
   "outputs": [],
   "source": [
    "pred_elast3[\"pred_elast\"] = np.clip(pred_elast3[\"pred_elast\"], -np.inf, 0)"
   ]
  },
  {
   "cell_type": "markdown",
   "metadata": {},
   "source": [
    "Now, let us contrast this elasticity or causal model with a purely predictive model. We will use a Machine Learnig algorithim that uses as features price, temperature, weekday and cost and tries to predict icecream sales using those variables. "
   ]
  },
  {
   "cell_type": "code",
   "execution_count": 10,
   "metadata": {},
   "outputs": [
    {
     "data": {
      "text/plain": [
       "0.9124088322890126"
      ]
     },
     "execution_count": 10,
     "metadata": {},
     "output_type": "execute_result"
    }
   ],
   "source": [
    "X = [\"temp\", \"weekday\", \"cost\", \"price\"]\n",
    "y = \"sales\"\n",
    "ml = GradientBoostingRegressor()\n",
    "ml.fit(train[X], train[y])\n",
    "\n",
    "# make sure the model is not overfiting.\n",
    "ml.score(test[X], test[y])"
   ]
  },
  {
   "cell_type": "markdown",
   "metadata": {},
   "source": [
    "We can use this model to make predictions about how much sales we will have on each day. To contrast both models, lets use them for what we intended on the first place: partitioning our entitie base. For each model, we will partition the entities into 2 groups. Our hope is that one group is higly responsive to price increase while the other not so much. If that is the case, we can organize our business around those groups: for the days that fall in the high responsivness group, we better not set prices to hight. For the low responsivness group, we can increase price without risking too much in sales."
   ]
  },
  {
   "cell_type": "code",
   "execution_count": 11,
   "metadata": {},
   "outputs": [
    {
     "data": {
      "text/html": [
       "<div>\n",
       "<style scoped>\n",
       "    .dataframe tbody tr th:only-of-type {\n",
       "        vertical-align: middle;\n",
       "    }\n",
       "\n",
       "    .dataframe tbody tr th {\n",
       "        vertical-align: top;\n",
       "    }\n",
       "\n",
       "    .dataframe thead th {\n",
       "        text-align: right;\n",
       "    }\n",
       "</style>\n",
       "<table border=\"1\" class=\"dataframe\">\n",
       "  <thead>\n",
       "    <tr style=\"text-align: right;\">\n",
       "      <th></th>\n",
       "      <th>temp</th>\n",
       "      <th>weekday</th>\n",
       "      <th>cost</th>\n",
       "      <th>price</th>\n",
       "      <th>sales</th>\n",
       "      <th>pred_elast</th>\n",
       "      <th>elast_band</th>\n",
       "      <th>pred_sales</th>\n",
       "      <th>pred_band</th>\n",
       "    </tr>\n",
       "  </thead>\n",
       "  <tbody>\n",
       "    <tr>\n",
       "      <th>2648</th>\n",
       "      <td>18.6</td>\n",
       "      <td>7</td>\n",
       "      <td>0.5</td>\n",
       "      <td>10</td>\n",
       "      <td>185</td>\n",
       "      <td>-10.301045</td>\n",
       "      <td>(-10.597999999999999, -0.00555]</td>\n",
       "      <td>186.878081</td>\n",
       "      <td>(161.089, 198.735]</td>\n",
       "    </tr>\n",
       "    <tr>\n",
       "      <th>2456</th>\n",
       "      <td>26.0</td>\n",
       "      <td>3</td>\n",
       "      <td>0.5</td>\n",
       "      <td>10</td>\n",
       "      <td>200</td>\n",
       "      <td>0.000000</td>\n",
       "      <td>(-0.00555, 0.0]</td>\n",
       "      <td>203.188327</td>\n",
       "      <td>(198.735, 257.746]</td>\n",
       "    </tr>\n",
       "    <tr>\n",
       "      <th>4557</th>\n",
       "      <td>23.7</td>\n",
       "      <td>3</td>\n",
       "      <td>0.3</td>\n",
       "      <td>8</td>\n",
       "      <td>192</td>\n",
       "      <td>-0.132057</td>\n",
       "      <td>(-10.597999999999999, -0.00555]</td>\n",
       "      <td>188.800637</td>\n",
       "      <td>(161.089, 198.735]</td>\n",
       "    </tr>\n",
       "    <tr>\n",
       "      <th>4884</th>\n",
       "      <td>28.9</td>\n",
       "      <td>4</td>\n",
       "      <td>1.5</td>\n",
       "      <td>6</td>\n",
       "      <td>213</td>\n",
       "      <td>0.000000</td>\n",
       "      <td>(-0.00555, 0.0]</td>\n",
       "      <td>210.430813</td>\n",
       "      <td>(198.735, 257.746]</td>\n",
       "    </tr>\n",
       "    <tr>\n",
       "      <th>92</th>\n",
       "      <td>23.7</td>\n",
       "      <td>1</td>\n",
       "      <td>0.5</td>\n",
       "      <td>8</td>\n",
       "      <td>207</td>\n",
       "      <td>-9.953698</td>\n",
       "      <td>(-10.597999999999999, -0.00555]</td>\n",
       "      <td>209.044522</td>\n",
       "      <td>(198.735, 257.746]</td>\n",
       "    </tr>\n",
       "  </tbody>\n",
       "</table>\n",
       "</div>"
      ],
      "text/plain": [
       "      temp  weekday  cost  price  sales  pred_elast  \\\n",
       "2648  18.6        7   0.5     10    185  -10.301045   \n",
       "2456  26.0        3   0.5     10    200    0.000000   \n",
       "4557  23.7        3   0.3      8    192   -0.132057   \n",
       "4884  28.9        4   1.5      6    213    0.000000   \n",
       "92    23.7        1   0.5      8    207   -9.953698   \n",
       "\n",
       "                           elast_band  pred_sales           pred_band  \n",
       "2648  (-10.597999999999999, -0.00555]  186.878081  (161.089, 198.735]  \n",
       "2456                  (-0.00555, 0.0]  203.188327  (198.735, 257.746]  \n",
       "4557  (-10.597999999999999, -0.00555]  188.800637  (161.089, 198.735]  \n",
       "4884                  (-0.00555, 0.0]  210.430813  (198.735, 257.746]  \n",
       "92    (-10.597999999999999, -0.00555]  209.044522  (198.735, 257.746]  "
      ]
     },
     "execution_count": 11,
     "metadata": {},
     "output_type": "execute_result"
    }
   ],
   "source": [
    "bands_df = pred_elast3.assign(\n",
    "    elast_band = pd.qcut(pred_elast3[\"pred_elast\"], 2),\n",
    "    pred_sales = ml.predict(pred_elast3[X]),\n",
    "    pred_band = pd.qcut(ml.predict(pred_elast3[X]), 2),\n",
    ")\n",
    "\n",
    "bands_df.head()"
   ]
  },
  {
   "cell_type": "markdown",
   "metadata": {},
   "source": [
    "One very simple way to check how good those partition schemas are is to plot a regression line of prices on sales for each partition. Below, we can see the one for the partitions made using the elasticity predictions"
   ]
  },
  {
   "cell_type": "code",
   "execution_count": 12,
   "metadata": {},
   "outputs": [
    {
     "data": {
      "image/png": "[encoded data removed]",
      "text/plain": [
       "<Figure size 432x216 with 2 Axes>"
      ]
     },
     "metadata": {
      "needs_background": "light"
     },
     "output_type": "display_data"
    }
   ],
   "source": [
    "g = sns.FacetGrid(bands_df, col=\"elast_band\")\n",
    "g.map_dataframe(sns.regplot, x=\"price\", y=\"sales\")\n",
    "g.set_titles(col_template=\"Elast. Band {col_name}\");"
   ]
  },
  {
   "cell_type": "markdown",
   "metadata": {},
   "source": [
    "As we can see, it looks like this partitioning schema is usefull. For the first partition, it looks like there is a high sensitivity to prices. It looks like sales go down by a lot for each aditional price inccrease we observe. \n",
    "\n",
    "Contrast this with the partitions made using the ML prediction model."
   ]
  },
  {
   "cell_type": "code",
   "execution_count": 13,
   "metadata": {},
   "outputs": [
    {
     "data": {
      "image/png": "[encoded data removed]",
      "text/plain": [
       "<Figure size 432x216 with 2 Axes>"
      ]
     },
     "metadata": {
      "needs_background": "light"
     },
     "output_type": "display_data"
    }
   ],
   "source": [
    "g = sns.FacetGrid(bands_df, col=\"pred_band\")\n",
    "g.map_dataframe(sns.regplot, x=\"price\", y=\"sales\")\n",
    "g.set_titles(col_template=\"Pred. Band {col_name}\");"
   ]
  },
  {
   "cell_type": "markdown",
   "metadata": {},
   "source": [
    "It looks like the model partitions the customer on the y axis. This is expected. It is a model to predict sales. Hence, we hope that partitions that are defined with it have different spend levels. However, thats not particurlaly usefull here. Once we look at the slopes of the lines, we see that they don't change much. That is, both partitions, as defined by the prediction model, have about the same reponsivness to price increase. This means we can't use this model to figure out how we should set our prices depending on the conditions of the day. \n",
    "\n",
    "## Caveats\n",
    "\n",
    "The theory around this sort of causal models, how to build them and how to usem them, is quite slim. Most of the things here I gathered from my professional experience, which I'm not so sure about everything. For this reason, I feel I must point out some problems with this approach so that you can hopfuly continue from where I left off. \n",
    "\n",
    "First, it is not always the case that a prediction model is not good for partitioning the data on elasticity or responsivness. When elasticity is correlated with the outcome, a prediction model will be very decent. In our icecream sales example, suppose that people are less responsive to price increases on the weekend and when it's hot. Well, its not crazy to think that those are also the conditions when we sell more icecream. Hence, if that is the case, sales is correlated with the elasticity of sales on prices and a prediction model for sales can be very usefull for partitioning elasticity.\n",
    "\n",
    "Seccond, **prediction models hinders our capacity to learn elasticity insofar as they use the treatment to make the prediction**. That has to do with the way we are trying to learn about elasticity: first, we partition the data according to something (usualy a model), then, we look at the elasticity in each partition. This means that the outcome \\\\(y\\\\) needs to change in the partition as we change \\\\(t\\\\). That capacity to change gets contrained if the model learn how \\\\(t\\\\) affects \\\\(y\\\\) to make its predictions. Notice that you simply not giving the model the treatment feature doesn't solve that, because if the treatment is no random, the model can learn its relationship with the outcome even without having direct access to it. \n",
    "\n",
    "However, if you have a randomized treatment and you don't give the treatment to your model, there is no way it can learn the relationship between the treatment and the outcome. If that is the case, **your prediction model can be usefull for causal inference**, because it constraint the outcome from varying for reasons other than thre treatment. That's a good thing, because, after controling for that prediction model, the changes in the outcome should be mostly due to the treatment, since the model explained away the other variables. To see this process in action, look what hapens when we remove the `price` variable from our ML model"
   ]
  },
  {
   "cell_type": "code",
   "execution_count": 14,
   "metadata": {},
   "outputs": [],
   "source": [
    "X = [\"temp\", \"weekday\", \"cost\"]\n",
    "y = \"sales\"\n",
    "ml2 = GradientBoostingRegressor()\n",
    "ml2.fit(train[X], train[y]);"
   ]
  },
  {
   "cell_type": "code",
   "execution_count": 15,
   "metadata": {},
   "outputs": [
    {
     "data": {
      "image/png": "[encoded data removed]",
      "text/plain": [
       "<Figure size 432x216 with 2 Axes>"
      ]
     },
     "metadata": {
      "needs_background": "light"
     },
     "output_type": "display_data"
    }
   ],
   "source": [
    "pred_rnd_ml = test.assign(pred_band = pd.qcut(ml2.predict(test[X]), 2))\n",
    "\n",
    "g = sns.FacetGrid(pred_rnd_ml, col=\"pred_band\")\n",
    "g.map_dataframe(sns.regplot, x=\"price\", y=\"sales\")\n",
    "g.set_titles(col_template=\"Pred. Band {col_name}\");"
   ]
  },
  {
   "cell_type": "markdown",
   "metadata": {},
   "source": [
    "It actually produces partitions we differen elasticyties! With these partitions, we can personalise price, probably seting it higher for day that fall in the second partition and lower for days in the first partition.\n",
    "\n",
    "Finally, all of these caveats considered, I still think it is generaly a bad idea to use prediction models when your goal is to personalize or optimize whatever treatment you have at your disposal. The maisn reason for that is that, whenever prediction model to split elasticity, it seems kind of acidental to me. Rather, it makes more sense to model the thing you are after direcly, instead of hoping that a prediction model will somehow capture it. \n",
    "\n",
    "## Key Ideas\n",
    "\n",
    "Here we saw how using prediction models can hinder our capacity to understand how a treatment affects an outcome. This is very problematic if our goal is not prediction, but rather optimization, where we want to set a value for \\\\(T\\\\) in order to maximise \\\\(Y\\\\). Lot's of business problems are on that format: deciding how much to charge for a product, figuring out what interest rate to set on a loand, deciding discount policies and so on. If that is our goal, we are much better off with causal models that predict elasticity: the sensitivity of the outcome on the treatment. Saddly, it's not at all obvious how to build those models. Since we can't observe elasticity direcly, it's hard to make a model that predicts it. Here, we used the idea of a linear regression model that is estimated to predict \\\\(Y\\\\), but, in doing so, gives us a way to also predict \\\\(\\frac{\\delta y}{\\delta t}\\\\). To do that, we had to include interaction terms of the treatment and the features. This made it so that the elasticity changes as with different features. Then, we can have elasticity predictions and use those elasticity predictions to group our entities into more or less responsive to our treatment, utimatly helping us decide the treatment level for each group.\n",
    "\n",
    "## References \n",
    "\n",
    "The things I've written here are mostly stuff from my head. I've learned through experience, not from any textbook. This means that there isn't a direct reference I can point you to. It also means that they have **not** passed the academic scrutiny that good science often goes through. Instead, notice how I'm talking about things that work in practice, but I don't spend too much time explaining why that is the case. It's a sort of science from the streets, if you will. However, I am putting this up for public scrutiny, so, by all means, if you find something preposterous, open an issue and I'll address it to the best of my efforts. \n"
   ]
  },
  {
   "cell_type": "code",
   "execution_count": null,
   "metadata": {},
   "outputs": [],
   "source": []
  }
 ],
 "metadata": {
  "kernelspec": {
   "display_name": "causal-glory",
   "language": "python",
   "name": "causal-glory"
  },
  "language_info": {
   "codemirror_mode": {
    "name": "ipython",
    "version": 3
   },
   "file_extension": ".py",
   "mimetype": "text/x-python",
   "name": "python",
   "nbconvert_exporter": "python",
   "pygments_lexer": "ipython3",
   "version": "3.6.9"
  }
 },
 "nbformat": 4,
 "nbformat_minor": 4
}
